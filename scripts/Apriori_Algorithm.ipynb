{
  "cells": [
    {
      "cell_type": "markdown",
      "metadata": {
        "id": "g9p2_cS5BwOf"
      },
      "source": [
        "#Market Basket Analysis\n",
        "**Step 1: Loading The Necessary Libraries**\n",
        "\n",
        "In this project, we will use the libraries **arules**, **arulesViz**, and **readr**\n"
      ]
    },
    {
      "cell_type": "code",
      "execution_count": null,
      "metadata": {
        "colab": {
          "base_uri": "https://localhost:8080/"
        },
        "id": "czTEX60i-Zm3",
        "outputId": "552bc416-610e-4a7e-98b0-ed12feef04a0"
      },
      "outputs": [
        {
          "name": "stderr",
          "output_type": "stream",
          "text": [
            "Installing package into ‘/usr/local/lib/R/site-library’\n",
            "(as ‘lib’ is unspecified)\n",
            "\n",
            "Installing package into ‘/usr/local/lib/R/site-library’\n",
            "(as ‘lib’ is unspecified)\n",
            "\n",
            "also installing the dependencies ‘graphlayouts’, ‘ggraph’\n",
            "\n",
            "\n",
            "Installing package into ‘/usr/local/lib/R/site-library’\n",
            "(as ‘lib’ is unspecified)\n",
            "\n"
          ]
        }
      ],
      "source": [
        "chooseCRANmirror(graphics = FALSE, ind = 1)\n",
        "install.packages(\"arules\", repos=\"https://cloud.r-project.org/\")\n",
        "install.packages(\"arulesViz\", repos=\"https://cloud.r-project.org/\")\n",
        "install.packages(\"readr\", repos=\"https://cloud.r-project.org/\")\n"
      ]
    },
    {
      "cell_type": "code",
      "execution_count": null,
      "metadata": {
        "colab": {
          "base_uri": "https://localhost:8080/"
        },
        "id": "z1g-QX_fEpYv",
        "outputId": "43d74958-dded-4e25-a628-01bc820f9bbf"
      },
      "outputs": [
        {
          "name": "stderr",
          "output_type": "stream",
          "text": [
            "Loading required package: Matrix\n",
            "\n",
            "\n",
            "Attaching package: ‘arules’\n",
            "\n",
            "\n",
            "The following objects are masked from ‘package:base’:\n",
            "\n",
            "    abbreviate, write\n",
            "\n",
            "\n"
          ]
        }
      ],
      "source": [
        "library(arules)\n",
        "library(arulesViz)\n",
        "library(readr)"
      ]
    },
    {
      "cell_type": "markdown",
      "metadata": {
        "id": "9RjxH2rmCOss"
      },
      "source": [
        "**Step 2: Loading The Dataset**\n",
        "\n",
        "\n"
      ]
    },
    {
      "cell_type": "code",
      "execution_count": 14,
      "metadata": {
        "id": "b4lZl6tKCmxE"
      },
      "outputs": [],
      "source": [
        "groceries <- read.transactions(\"groceries.csv\", sep = \",\")"
      ]
    },
    {
      "cell_type": "code",
      "source": [
        "summary(groceries)"
      ],
      "metadata": {
        "colab": {
          "base_uri": "https://localhost:8080/",
          "height": 451
        },
        "id": "nflIRYUUQIhm",
        "outputId": "982e86de-a9d5-4006-db8c-a16d7ae6ecdb"
      },
      "execution_count": 16,
      "outputs": [
        {
          "output_type": "display_data",
          "data": {
            "text/plain": [
              "transactions as itemMatrix in sparse format with\n",
              " 9835 rows (elements/itemsets/transactions) and\n",
              " 169 columns (items) and a density of 0.02609146 \n",
              "\n",
              "most frequent items:\n",
              "      whole milk other vegetables       rolls/buns             soda \n",
              "            2513             1903             1809             1715 \n",
              "          yogurt          (Other) \n",
              "            1372            34055 \n",
              "\n",
              "element (itemset/transaction) length distribution:\n",
              "sizes\n",
              "   1    2    3    4    5    6    7    8    9   10   11   12   13   14   15   16 \n",
              "2159 1643 1299 1005  855  645  545  438  350  246  182  117   78   77   55   46 \n",
              "  17   18   19   20   21   22   23   24   26   27   28   29   32 \n",
              "  29   14   14    9   11    4    6    1    1    1    1    3    1 \n",
              "\n",
              "   Min. 1st Qu.  Median    Mean 3rd Qu.    Max. \n",
              "  1.000   2.000   3.000   4.409   6.000  32.000 \n",
              "\n",
              "includes extended item information - examples:\n",
              "            labels\n",
              "1 abrasive cleaner\n",
              "2 artif. sweetener\n",
              "3   baby cosmetics"
            ]
          },
          "metadata": {}
        }
      ]
    },
    {
      "cell_type": "markdown",
      "metadata": {
        "id": "Z3deebN-DUX-"
      },
      "source": [
        "**Interpretations:**\n",
        "\n",
        "-  The density value of 0.02609146 (2.6 percent) refers to the proportion of non-zero matrix cells. Since there are 9835 * 169 = 1662115 positions in the matrix, we can calculate that a total of 1662115 * 0.02609146 = 43367 items were purchased during the store's 30 days of operation (assuming no duplicate items were purchased).\n",
        "\n",
        "- A total of 2,159 transactions contained only a single item, while one transaction had 32 items.\n",
        "- The first quartile and median purchase size are 2 and 3 items respectively, implying that 25 percent of transactions contained two or fewer items and about half contained more or less than three items."
      ]
    },
    {
      "cell_type": "markdown",
      "source": [
        "**Visualization**\n",
        "\n",
        " To present these statistics visually, use the **itemFrequencyPlot()** function."
      ],
      "metadata": {
        "id": "q5Kh1_U9R8Zl"
      }
    },
    {
      "source": [
        "itemFrequencyPlot(groceries, support = 0.1)"
      ],
      "cell_type": "code",
      "metadata": {
        "id": "kb7IWAbrMG2O",
        "colab": {
          "base_uri": "https://localhost:8080/",
          "height": 437
        },
        "outputId": "90c34eb1-23e6-4c10-fd2c-ce86856378a8"
      },
      "execution_count": 20,
      "outputs": [
        {
          "output_type": "display_data",
          "data": {
            "text/plain": [
              "plot without title"
            ],
            "image/png": "[encoded data removed]"
          },
          "metadata": {
            "image/png": {
              "width": 420,
              "height": 420
            }
          }
        }
      ]
    },
    {
      "cell_type": "markdown",
      "source": [
        "This results in a histogram showing the eight items in the groceries data with at least 10 percent support.\n",
        "\n",
        " If we would rather limit the plot to a specific number of items, the topN parameter can be used with itemFrequencyPlot():"
      ],
      "metadata": {
        "id": "dM2nmbcDSHQV"
      }
    },
    {
      "cell_type": "code",
      "source": [
        "itemFrequencyPlot(groceries, topN=20)"
      ],
      "metadata": {
        "colab": {
          "base_uri": "https://localhost:8080/",
          "height": 437
        },
        "id": "_t0KZdLpSUAg",
        "outputId": "f8e85e3d-812d-4bf3-dcbf-3e36c59e137f"
      },
      "execution_count": 23,
      "outputs": [
        {
          "output_type": "display_data",
          "data": {
            "text/plain": [
              "plot without title"
            ],
            "image/png": "[encoded data removed]"
          },
          "metadata": {
            "image/png": {
              "width": 420,
              "height": 420
            }
          }
        }
      ]
    },
    {
      "cell_type": "markdown",
      "source": [
        "In addition to looking at items, it's also possible to visualize the entire sparse matrix.\n",
        "To do so, use the **image()** function."
      ],
      "metadata": {
        "id": "mVNy7VcPS1s6"
      }
    },
    {
      "cell_type": "code",
      "source": [
        "image(sample(groceries, 100))"
      ],
      "metadata": {
        "colab": {
          "base_uri": "https://localhost:8080/",
          "height": 437
        },
        "id": "scoNhTggS726",
        "outputId": "ca127c90-08c3-42ac-8cbd-d7f13f2b86aa"
      },
      "execution_count": 24,
      "outputs": [
        {
          "output_type": "display_data",
          "data": {
            "text/plain": [
              "plot without title"
            ],
            "image/png": "[encoded data removed]"
          },
          "metadata": {
            "image/png": {
              "width": 420,
              "height": 420
            }
          }
        }
      ]
    },
    {
      "cell_type": "markdown",
      "metadata": {
        "id": "m1rBuenFEKb0"
      },
      "source": [
        "**Step 3: Apply the Apriori Algorithm**\n"
      ]
    },
    {
      "cell_type": "code",
      "execution_count": 25,
      "metadata": {
        "id": "kZ6tYoMKEJ1D",
        "colab": {
          "base_uri": "https://localhost:8080/",
          "height": 399
        },
        "outputId": "c6e9d146-ec54-4ad9-8e8a-7022be8dbc01"
      },
      "outputs": [
        {
          "output_type": "stream",
          "name": "stdout",
          "text": [
            "Apriori\n",
            "\n",
            "Parameter specification:\n",
            " confidence minval smax arem  aval originalSupport maxtime support minlen\n",
            "       0.25    0.1    1 none FALSE            TRUE       5   0.006      2\n",
            " maxlen target  ext\n",
            "     10  rules TRUE\n",
            "\n",
            "Algorithmic control:\n",
            " filter tree heap memopt load sort verbose\n",
            "    0.1 TRUE TRUE  FALSE TRUE    2    TRUE\n",
            "\n",
            "Absolute minimum support count: 59 \n",
            "\n",
            "set item appearances ...[0 item(s)] done [0.00s].\n",
            "set transactions ...[169 item(s), 9835 transaction(s)] done [0.01s].\n",
            "sorting and recoding items ... [109 item(s)] done [0.00s].\n",
            "creating transaction tree ... done [0.01s].\n",
            "checking subsets of size 1 2 3 4 done [0.01s].\n",
            "writing ... [463 rule(s)] done [0.00s].\n",
            "creating S4 object  ... done [0.01s].\n"
          ]
        },
        {
          "output_type": "display_data",
          "data": {
            "text/plain": [
              "set of 463 rules "
            ]
          },
          "metadata": {}
        }
      ],
      "source": [
        "groceryrules <- apriori(groceries, parameter = list(support = 0.006, confidence = 0.25, minlen = 2))\n",
        "groceryrules"
      ]
    },
    {
      "cell_type": "markdown",
      "source": [
        " Our groceryrules object contains a set of 463 association rules. To determine\n",
        "whether any of them are useful, we'll have to dig deeper."
      ],
      "metadata": {
        "id": "2uThgyWBThSd"
      }
    },
    {
      "cell_type": "markdown",
      "metadata": {
        "id": "OvpYPdy0E7gz"
      },
      "source": [
        "**Step 4: Model Performance Evaluation**"
      ]
    },
    {
      "cell_type": "code",
      "execution_count": 26,
      "metadata": {
        "id": "gvkz3TGUFAVE",
        "colab": {
          "base_uri": "https://localhost:8080/",
          "height": 537
        },
        "outputId": "80a2f0bf-9b27-4bbe-a282-2c48201fc543"
      },
      "outputs": [
        {
          "output_type": "display_data",
          "data": {
            "text/plain": [
              "set of 463 rules\n",
              "\n",
              "rule length distribution (lhs + rhs):sizes\n",
              "  2   3   4 \n",
              "150 297  16 \n",
              "\n",
              "   Min. 1st Qu.  Median    Mean 3rd Qu.    Max. \n",
              "  2.000   2.000   3.000   2.711   3.000   4.000 \n",
              "\n",
              "summary of quality measures:\n",
              "    support           confidence        coverage             lift       \n",
              " Min.   :0.006101   Min.   :0.2500   Min.   :0.009964   Min.   :0.9932  \n",
              " 1st Qu.:0.007117   1st Qu.:0.2971   1st Qu.:0.018709   1st Qu.:1.6229  \n",
              " Median :0.008744   Median :0.3554   Median :0.024809   Median :1.9332  \n",
              " Mean   :0.011539   Mean   :0.3786   Mean   :0.032608   Mean   :2.0351  \n",
              " 3rd Qu.:0.012303   3rd Qu.:0.4495   3rd Qu.:0.035892   3rd Qu.:2.3565  \n",
              " Max.   :0.074835   Max.   :0.6600   Max.   :0.255516   Max.   :3.9565  \n",
              "     count      \n",
              " Min.   : 60.0  \n",
              " 1st Qu.: 70.0  \n",
              " Median : 86.0  \n",
              " Mean   :113.5  \n",
              " 3rd Qu.:121.0  \n",
              " Max.   :736.0  \n",
              "\n",
              "mining info:\n",
              "      data ntransactions support confidence\n",
              " groceries          9835   0.006       0.25\n",
              "                                                                                        call\n",
              " apriori(data = groceries, parameter = list(support = 0.006, confidence = 0.25, minlen = 2))"
            ]
          },
          "metadata": {}
        }
      ],
      "source": [
        "summary(groceryrules)"
      ]
    },
    {
      "cell_type": "markdown",
      "metadata": {
        "id": "KA-Vf4DrE_1U"
      },
      "source": [
        "**Interpretation:**\n",
        "- The rule length distribution tells us how many rules have each count of items. In our rule set, 150 rules have only two items, while 297 have three, and 16 have four.\n",
        "- In the summary of quality measures, we can see that the minimum confidence and support levels (0.006 and 0.25 respectively) corresponds to the parameter settings in the  apriori fucntion. However, we might be alarmed if most or all of the rules were very near the minimum thresholds—not the case here.\n",
        "- The third column, *lift*, is a metric we have not considered yet. It is a measure of how much more likely one item is to be purchased relative to its typical purchase rate, given that you know another item has been purchased. T"
      ]
    },
    {
      "cell_type": "markdown",
      "source": [
        " We can take a look at specific rules using the inspect() function.\n",
        " For instance, the first three rules in the groceryrules object can be viewed as follows:"
      ],
      "metadata": {
        "id": "1vt8HnFaVKKR"
      }
    },
    {
      "cell_type": "code",
      "source": [
        " inspect(groceryrules[1:3])"
      ],
      "metadata": {
        "colab": {
          "base_uri": "https://localhost:8080/"
        },
        "id": "Y-kfohWgVY0N",
        "outputId": "d65e2b5e-8aa3-466a-b45d-c836a4b6ed92"
      },
      "execution_count": 27,
      "outputs": [
        {
          "output_type": "stream",
          "name": "stdout",
          "text": [
            "    lhs                rhs               support     confidence coverage  \n",
            "[1] {potted plants} => {whole milk}      0.006914082 0.4000000  0.01728521\n",
            "[2] {pasta}         => {whole milk}      0.006100661 0.4054054  0.01504830\n",
            "[3] {herbs}         => {root vegetables} 0.007015760 0.4312500  0.01626843\n",
            "    lift     count\n",
            "[1] 1.565460 68   \n",
            "[2] 1.586614 60   \n",
            "[3] 3.956477 69   \n"
          ]
        }
      ]
    },
    {
      "cell_type": "markdown",
      "source": [
        "The columns indicated by lhs and rhs refer to the left-hand side (LHS) and  \n",
        "right-hand side (RHS) of the rule.\n",
        "\n",
        "The LHS is the condition that needs to be  met in order to trigger the rule, and the RHS is the expected result of meeting that condition.\n",
        "\n",
        "However, not all rules are useful (e.g. the first rule: {potted plants} =>\n",
        "{whole milk} ); there doesn't seem to be\n",
        "a logical reason why someone would be more likely to buy milk with a potted plant.\n",
        "\n",
        " A common approach is to take the result of learning association rules and divide\n",
        "them into three categories:\n",
        " - Actionable\n",
        " - Trivial\n",
        " - Inexplicable\n",
        "\n",
        "Our goal would be to find **actionable** associations that provides an insightful discovery.\n",
        "\n",
        "Given enough time, one could evaluate each of the 463 rules to find the gems. However, the one performing the market\n",
        "basket analysis may not be the best judge of whether a rule is actionable, trivial, or inexplicable."
      ],
      "metadata": {
        "id": "JSNIQhBXVwVt"
      }
    },
    {
      "cell_type": "markdown",
      "source": [
        "**Step 5: Model Performance Improvement**"
      ],
      "metadata": {
        "id": "4xXNAgcDXeZc"
      }
    },
    {
      "cell_type": "markdown",
      "source": [
        "*1- Sorting the set of association rules*\n",
        "\n",
        "Depending upon the objectives of the market basket analysis, the most useful rules\n",
        "might be those with the highest support, confidence, or lift. The arules package\n",
        "includes a **sort()** function that can be used to reorder the list of rules so that those\n",
        "with the highest or lowest values of the quality measure come first"
      ],
      "metadata": {
        "id": "07XTopX5XhzW"
      }
    },
    {
      "cell_type": "code",
      "source": [
        "inspect(sort(groceryrules, by = \"lift\")[1:5])"
      ],
      "metadata": {
        "colab": {
          "base_uri": "https://localhost:8080/"
        },
        "id": "OCmvGJ-gV7yh",
        "outputId": "c85bc322-39e0-4f7e-fa5d-4bb51d36569c"
      },
      "execution_count": 28,
      "outputs": [
        {
          "output_type": "stream",
          "name": "stdout",
          "text": [
            "    lhs                    rhs                      support confidence   coverage     lift count\n",
            "[1] {herbs}             => {root vegetables}    0.007015760  0.4312500 0.01626843 3.956477    69\n",
            "[2] {berries}           => {whipped/sour cream} 0.009049314  0.2721713 0.03324860 3.796886    89\n",
            "[3] {other vegetables,                                                                          \n",
            "     tropical fruit,                                                                            \n",
            "     whole milk}        => {root vegetables}    0.007015760  0.4107143 0.01708185 3.768074    69\n",
            "[4] {beef,                                                                                      \n",
            "     other vegetables}  => {root vegetables}    0.007930859  0.4020619 0.01972547 3.688692    78\n",
            "[5] {other vegetables,                                                                          \n",
            "     tropical fruit}    => {pip fruit}          0.009456024  0.2634561 0.03589222 3.482649    93\n"
          ]
        }
      ]
    },
    {
      "cell_type": "markdown",
      "source": [
        "These rules are more interesting than the ones we got previously.\n",
        "- The first of these rules, with a lift of 3956477, indicates that customers who buy herbs are nearly four times as likely to buy root vegetables as is the typical customer—perhaps as part of some kind of stew?\n",
        "- Rule two is intriguing. Whipped cream is more than three times more likely to appear in a cart with berries compared to other carts, and it may indicate perhaps a dessert combination"
      ],
      "metadata": {
        "id": "7qO36xiYatHY"
      }
    },
    {
      "cell_type": "markdown",
      "source": [
        "*2- Taking Subsets of association rules*\n"
      ],
      "metadata": {
        "id": "JsHKJAzpbIv6"
      }
    },
    {
      "cell_type": "code",
      "source": [
        "berryrules <- subset(groceryrules, items %in% \"berries\")\n",
        "inspect(berryrules)"
      ],
      "metadata": {
        "colab": {
          "base_uri": "https://localhost:8080/"
        },
        "id": "9Jl_XYXDXdGO",
        "outputId": "74b2d839-6236-4b69-bb21-153a4dcd82d6"
      },
      "execution_count": 30,
      "outputs": [
        {
          "output_type": "stream",
          "name": "stdout",
          "text": [
            "    lhs          rhs                  support     confidence coverage  lift    \n",
            "[1] {berries} => {whipped/sour cream} 0.009049314 0.2721713  0.0332486 3.796886\n",
            "[2] {berries} => {yogurt}             0.010574479 0.3180428  0.0332486 2.279848\n",
            "[3] {berries} => {other vegetables}   0.010269446 0.3088685  0.0332486 1.596280\n",
            "[4] {berries} => {whole milk}         0.011794611 0.3547401  0.0332486 1.388328\n",
            "    count\n",
            "[1]  89  \n",
            "[2] 104  \n",
            "[3] 101  \n",
            "[4] 116  \n"
          ]
        }
      ]
    },
    {
      "cell_type": "markdown",
      "source": [
        "There are four rules involving berries, two of which seem interesting enough to qualify as being actionable. In addition to whipped cream, berries are purchased in supermarkets with yogurt frequently—a pairing which would be appropriate for both lunch or breakfast and dessert."
      ],
      "metadata": {
        "id": "aspkurl6bdyD"
      }
    },
    {
      "cell_type": "markdown",
      "source": [
        "**Conclusion:**\n",
        "\n",
        "Association rules form a part of the **Big Data** solution. As an **unsupervised\n",
        "learning** algorithm, they are able to learn and infer from large databases\n",
        "without prior knowledge of what to search for. The catch is that it requires some effort to reduce the wealth of information into a smaller and more manageable subset\n",
        "results.\n"
      ],
      "metadata": {
        "id": "wUoCWPUXbp6m"
      }
    }
  ],
  "metadata": {
    "colab": {
      "provenance": []
    },
    "kernelspec": {
      "display_name": "R",
      "name": "ir"
    },
    "language_info": {
      "name": "R"
    }
  },
  "nbformat": 4,
  "nbformat_minor": 0
}